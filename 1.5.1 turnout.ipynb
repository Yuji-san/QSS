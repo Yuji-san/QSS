{
 "cells": [
  {
   "cell_type": "code",
   "execution_count": 1,
   "metadata": {},
   "outputs": [],
   "source": [
    "import pandas as pd\n",
    "import numpy  as np"
   ]
  },
  {
   "cell_type": "code",
   "execution_count": 2,
   "metadata": {},
   "outputs": [],
   "source": [
    "df = pd.read_csv('turnout.csv')"
   ]
  },
  {
   "cell_type": "code",
   "execution_count": 3,
   "metadata": {},
   "outputs": [
    {
     "data": {
      "text/html": [
       "<div>\n",
       "<style scoped>\n",
       "    .dataframe tbody tr th:only-of-type {\n",
       "        vertical-align: middle;\n",
       "    }\n",
       "\n",
       "    .dataframe tbody tr th {\n",
       "        vertical-align: top;\n",
       "    }\n",
       "\n",
       "    .dataframe thead th {\n",
       "        text-align: right;\n",
       "    }\n",
       "</style>\n",
       "<table border=\"1\" class=\"dataframe\">\n",
       "  <thead>\n",
       "    <tr style=\"text-align: right;\">\n",
       "      <th></th>\n",
       "      <th>year</th>\n",
       "      <th>VEP</th>\n",
       "      <th>VAP</th>\n",
       "      <th>total</th>\n",
       "      <th>ANES</th>\n",
       "      <th>felons</th>\n",
       "      <th>noncit</th>\n",
       "      <th>overseas</th>\n",
       "      <th>osvoters</th>\n",
       "    </tr>\n",
       "  </thead>\n",
       "  <tbody>\n",
       "    <tr>\n",
       "      <th>0</th>\n",
       "      <td>1980</td>\n",
       "      <td>159635</td>\n",
       "      <td>164445</td>\n",
       "      <td>86515</td>\n",
       "      <td>71</td>\n",
       "      <td>802</td>\n",
       "      <td>5756</td>\n",
       "      <td>1803</td>\n",
       "      <td>NaN</td>\n",
       "    </tr>\n",
       "    <tr>\n",
       "      <th>1</th>\n",
       "      <td>1982</td>\n",
       "      <td>160467</td>\n",
       "      <td>166028</td>\n",
       "      <td>67616</td>\n",
       "      <td>60</td>\n",
       "      <td>960</td>\n",
       "      <td>6641</td>\n",
       "      <td>1982</td>\n",
       "      <td>NaN</td>\n",
       "    </tr>\n",
       "    <tr>\n",
       "      <th>2</th>\n",
       "      <td>1984</td>\n",
       "      <td>167702</td>\n",
       "      <td>173995</td>\n",
       "      <td>92653</td>\n",
       "      <td>74</td>\n",
       "      <td>1165</td>\n",
       "      <td>7482</td>\n",
       "      <td>2361</td>\n",
       "      <td>NaN</td>\n",
       "    </tr>\n",
       "    <tr>\n",
       "      <th>3</th>\n",
       "      <td>1986</td>\n",
       "      <td>170396</td>\n",
       "      <td>177922</td>\n",
       "      <td>64991</td>\n",
       "      <td>53</td>\n",
       "      <td>1367</td>\n",
       "      <td>8362</td>\n",
       "      <td>2216</td>\n",
       "      <td>NaN</td>\n",
       "    </tr>\n",
       "    <tr>\n",
       "      <th>4</th>\n",
       "      <td>1988</td>\n",
       "      <td>173579</td>\n",
       "      <td>181955</td>\n",
       "      <td>91595</td>\n",
       "      <td>70</td>\n",
       "      <td>1594</td>\n",
       "      <td>9280</td>\n",
       "      <td>2257</td>\n",
       "      <td>NaN</td>\n",
       "    </tr>\n",
       "    <tr>\n",
       "      <th>5</th>\n",
       "      <td>1990</td>\n",
       "      <td>176629</td>\n",
       "      <td>186159</td>\n",
       "      <td>67859</td>\n",
       "      <td>47</td>\n",
       "      <td>1901</td>\n",
       "      <td>10239</td>\n",
       "      <td>2659</td>\n",
       "      <td>NaN</td>\n",
       "    </tr>\n",
       "    <tr>\n",
       "      <th>6</th>\n",
       "      <td>1992</td>\n",
       "      <td>179656</td>\n",
       "      <td>190778</td>\n",
       "      <td>104405</td>\n",
       "      <td>75</td>\n",
       "      <td>2183</td>\n",
       "      <td>11447</td>\n",
       "      <td>2418</td>\n",
       "      <td>NaN</td>\n",
       "    </tr>\n",
       "    <tr>\n",
       "      <th>7</th>\n",
       "      <td>1994</td>\n",
       "      <td>182623</td>\n",
       "      <td>195258</td>\n",
       "      <td>75106</td>\n",
       "      <td>56</td>\n",
       "      <td>2441</td>\n",
       "      <td>12497</td>\n",
       "      <td>2229</td>\n",
       "      <td>NaN</td>\n",
       "    </tr>\n",
       "    <tr>\n",
       "      <th>8</th>\n",
       "      <td>1996</td>\n",
       "      <td>186347</td>\n",
       "      <td>200016</td>\n",
       "      <td>96263</td>\n",
       "      <td>73</td>\n",
       "      <td>2586</td>\n",
       "      <td>13601</td>\n",
       "      <td>2499</td>\n",
       "      <td>NaN</td>\n",
       "    </tr>\n",
       "    <tr>\n",
       "      <th>9</th>\n",
       "      <td>1998</td>\n",
       "      <td>190420</td>\n",
       "      <td>205313</td>\n",
       "      <td>72537</td>\n",
       "      <td>52</td>\n",
       "      <td>2920</td>\n",
       "      <td>14988</td>\n",
       "      <td>2937</td>\n",
       "      <td>NaN</td>\n",
       "    </tr>\n",
       "    <tr>\n",
       "      <th>10</th>\n",
       "      <td>2000</td>\n",
       "      <td>194331</td>\n",
       "      <td>210623</td>\n",
       "      <td>105375</td>\n",
       "      <td>73</td>\n",
       "      <td>3083</td>\n",
       "      <td>16218</td>\n",
       "      <td>2937</td>\n",
       "      <td>NaN</td>\n",
       "    </tr>\n",
       "    <tr>\n",
       "      <th>11</th>\n",
       "      <td>2002</td>\n",
       "      <td>198382</td>\n",
       "      <td>215462</td>\n",
       "      <td>78382</td>\n",
       "      <td>62</td>\n",
       "      <td>3168</td>\n",
       "      <td>17237</td>\n",
       "      <td>3308</td>\n",
       "      <td>NaN</td>\n",
       "    </tr>\n",
       "    <tr>\n",
       "      <th>12</th>\n",
       "      <td>2004</td>\n",
       "      <td>203483</td>\n",
       "      <td>220336</td>\n",
       "      <td>122295</td>\n",
       "      <td>77</td>\n",
       "      <td>3158</td>\n",
       "      <td>18068</td>\n",
       "      <td>3862</td>\n",
       "      <td>NaN</td>\n",
       "    </tr>\n",
       "    <tr>\n",
       "      <th>13</th>\n",
       "      <td>2008</td>\n",
       "      <td>213314</td>\n",
       "      <td>230872</td>\n",
       "      <td>131304</td>\n",
       "      <td>78</td>\n",
       "      <td>3145</td>\n",
       "      <td>19392</td>\n",
       "      <td>4972</td>\n",
       "      <td>263.0</td>\n",
       "    </tr>\n",
       "  </tbody>\n",
       "</table>\n",
       "</div>"
      ],
      "text/plain": [
       "    year     VEP     VAP   total  ANES  felons  noncit  overseas  osvoters\n",
       "0   1980  159635  164445   86515    71     802    5756      1803       NaN\n",
       "1   1982  160467  166028   67616    60     960    6641      1982       NaN\n",
       "2   1984  167702  173995   92653    74    1165    7482      2361       NaN\n",
       "3   1986  170396  177922   64991    53    1367    8362      2216       NaN\n",
       "4   1988  173579  181955   91595    70    1594    9280      2257       NaN\n",
       "5   1990  176629  186159   67859    47    1901   10239      2659       NaN\n",
       "6   1992  179656  190778  104405    75    2183   11447      2418       NaN\n",
       "7   1994  182623  195258   75106    56    2441   12497      2229       NaN\n",
       "8   1996  186347  200016   96263    73    2586   13601      2499       NaN\n",
       "9   1998  190420  205313   72537    52    2920   14988      2937       NaN\n",
       "10  2000  194331  210623  105375    73    3083   16218      2937       NaN\n",
       "11  2002  198382  215462   78382    62    3168   17237      3308       NaN\n",
       "12  2004  203483  220336  122295    77    3158   18068      3862       NaN\n",
       "13  2008  213314  230872  131304    78    3145   19392      4972     263.0"
      ]
     },
     "execution_count": 3,
     "metadata": {},
     "output_type": "execute_result"
    }
   ],
   "source": [
    "df"
   ]
  },
  {
   "cell_type": "code",
   "execution_count": 5,
   "metadata": {},
   "outputs": [],
   "source": [
    "pd.options.display.precision = 2"
   ]
  },
  {
   "cell_type": "code",
   "execution_count": 16,
   "metadata": {},
   "outputs": [],
   "source": [
    "df = df.replace(np.NaN, 0)"
   ]
  },
  {
   "cell_type": "code",
   "execution_count": 18,
   "metadata": {},
   "outputs": [
    {
     "data": {
      "text/html": [
       "<div>\n",
       "<style scoped>\n",
       "    .dataframe tbody tr th:only-of-type {\n",
       "        vertical-align: middle;\n",
       "    }\n",
       "\n",
       "    .dataframe tbody tr th {\n",
       "        vertical-align: top;\n",
       "    }\n",
       "\n",
       "    .dataframe thead th {\n",
       "        text-align: right;\n",
       "    }\n",
       "</style>\n",
       "<table border=\"1\" class=\"dataframe\">\n",
       "  <thead>\n",
       "    <tr style=\"text-align: right;\">\n",
       "      <th></th>\n",
       "      <th>year</th>\n",
       "      <th>VEP</th>\n",
       "      <th>VAP</th>\n",
       "      <th>total</th>\n",
       "      <th>ANES</th>\n",
       "      <th>felons</th>\n",
       "      <th>noncit</th>\n",
       "      <th>overseas</th>\n",
       "      <th>osvoters</th>\n",
       "    </tr>\n",
       "  </thead>\n",
       "  <tbody>\n",
       "    <tr>\n",
       "      <th>count</th>\n",
       "      <td>14.00</td>\n",
       "      <td>14.00</td>\n",
       "      <td>14.00</td>\n",
       "      <td>14.00</td>\n",
       "      <td>14.00</td>\n",
       "      <td>14.00</td>\n",
       "      <td>14.00</td>\n",
       "      <td>14.00</td>\n",
       "      <td>14.00</td>\n",
       "    </tr>\n",
       "    <tr>\n",
       "      <th>mean</th>\n",
       "      <td>1993.14</td>\n",
       "      <td>182640.29</td>\n",
       "      <td>194225.86</td>\n",
       "      <td>89778.29</td>\n",
       "      <td>65.79</td>\n",
       "      <td>2176.64</td>\n",
       "      <td>12229.14</td>\n",
       "      <td>2745.71</td>\n",
       "      <td>18.79</td>\n",
       "    </tr>\n",
       "    <tr>\n",
       "      <th>std</th>\n",
       "      <td>8.62</td>\n",
       "      <td>16065.14</td>\n",
       "      <td>20543.94</td>\n",
       "      <td>20627.89</td>\n",
       "      <td>10.47</td>\n",
       "      <td>875.28</td>\n",
       "      <td>4470.78</td>\n",
       "      <td>840.05</td>\n",
       "      <td>70.29</td>\n",
       "    </tr>\n",
       "    <tr>\n",
       "      <th>min</th>\n",
       "      <td>1980.00</td>\n",
       "      <td>159635.00</td>\n",
       "      <td>164445.00</td>\n",
       "      <td>64991.00</td>\n",
       "      <td>47.00</td>\n",
       "      <td>802.00</td>\n",
       "      <td>5756.00</td>\n",
       "      <td>1803.00</td>\n",
       "      <td>0.00</td>\n",
       "    </tr>\n",
       "    <tr>\n",
       "      <th>25%</th>\n",
       "      <td>1986.50</td>\n",
       "      <td>171191.75</td>\n",
       "      <td>178930.25</td>\n",
       "      <td>73179.25</td>\n",
       "      <td>57.00</td>\n",
       "      <td>1423.75</td>\n",
       "      <td>8591.50</td>\n",
       "      <td>2236.00</td>\n",
       "      <td>0.00</td>\n",
       "    </tr>\n",
       "    <tr>\n",
       "      <th>50%</th>\n",
       "      <td>1993.00</td>\n",
       "      <td>181139.50</td>\n",
       "      <td>193018.00</td>\n",
       "      <td>89055.00</td>\n",
       "      <td>70.50</td>\n",
       "      <td>2312.00</td>\n",
       "      <td>11972.00</td>\n",
       "      <td>2458.50</td>\n",
       "      <td>0.00</td>\n",
       "    </tr>\n",
       "    <tr>\n",
       "      <th>75%</th>\n",
       "      <td>1999.50</td>\n",
       "      <td>193353.25</td>\n",
       "      <td>209295.50</td>\n",
       "      <td>102369.50</td>\n",
       "      <td>73.75</td>\n",
       "      <td>3042.25</td>\n",
       "      <td>15910.50</td>\n",
       "      <td>2937.00</td>\n",
       "      <td>0.00</td>\n",
       "    </tr>\n",
       "    <tr>\n",
       "      <th>max</th>\n",
       "      <td>2008.00</td>\n",
       "      <td>213314.00</td>\n",
       "      <td>230872.00</td>\n",
       "      <td>131304.00</td>\n",
       "      <td>78.00</td>\n",
       "      <td>3168.00</td>\n",
       "      <td>19392.00</td>\n",
       "      <td>4972.00</td>\n",
       "      <td>263.00</td>\n",
       "    </tr>\n",
       "  </tbody>\n",
       "</table>\n",
       "</div>"
      ],
      "text/plain": [
       "          year        VEP        VAP      total   ANES   felons    noncit  \\\n",
       "count    14.00      14.00      14.00      14.00  14.00    14.00     14.00   \n",
       "mean   1993.14  182640.29  194225.86   89778.29  65.79  2176.64  12229.14   \n",
       "std       8.62   16065.14   20543.94   20627.89  10.47   875.28   4470.78   \n",
       "min    1980.00  159635.00  164445.00   64991.00  47.00   802.00   5756.00   \n",
       "25%    1986.50  171191.75  178930.25   73179.25  57.00  1423.75   8591.50   \n",
       "50%    1993.00  181139.50  193018.00   89055.00  70.50  2312.00  11972.00   \n",
       "75%    1999.50  193353.25  209295.50  102369.50  73.75  3042.25  15910.50   \n",
       "max    2008.00  213314.00  230872.00  131304.00  78.00  3168.00  19392.00   \n",
       "\n",
       "       overseas  osvoters  \n",
       "count     14.00     14.00  \n",
       "mean    2745.71     18.79  \n",
       "std      840.05     70.29  \n",
       "min     1803.00      0.00  \n",
       "25%     2236.00      0.00  \n",
       "50%     2458.50      0.00  \n",
       "75%     2937.00      0.00  \n",
       "max     4972.00    263.00  "
      ]
     },
     "execution_count": 18,
     "metadata": {},
     "output_type": "execute_result"
    }
   ],
   "source": [
    "df.describe()"
   ]
  },
  {
   "cell_type": "code",
   "execution_count": 63,
   "metadata": {},
   "outputs": [],
   "source": [
    "#選挙年齢人口(VAP)を使った投票率\n",
    "vote_rate_vap = (df.total) / (df.VAP + df.overseas)"
   ]
  },
  {
   "cell_type": "code",
   "execution_count": 64,
   "metadata": {},
   "outputs": [
    {
     "data": {
      "text/plain": [
       "0     0.52\n",
       "1     0.40\n",
       "2     0.53\n",
       "3     0.36\n",
       "4     0.50\n",
       "5     0.36\n",
       "6     0.54\n",
       "7     0.38\n",
       "8     0.48\n",
       "9     0.35\n",
       "10    0.49\n",
       "11    0.36\n",
       "12    0.55\n",
       "13    0.56\n",
       "dtype: float64"
      ]
     },
     "execution_count": 64,
     "metadata": {},
     "output_type": "execute_result"
    }
   ],
   "source": [
    "vote_rate_vap"
   ]
  },
  {
   "cell_type": "code",
   "execution_count": 65,
   "metadata": {},
   "outputs": [],
   "source": [
    "#有権者人口(VEP)を使った投票率\n",
    "vote_rate_vep = (df.total) / (df.VEP + df.overseas)"
   ]
  },
  {
   "cell_type": "code",
   "execution_count": 66,
   "metadata": {},
   "outputs": [
    {
     "data": {
      "text/plain": [
       "0     0.54\n",
       "1     0.42\n",
       "2     0.54\n",
       "3     0.38\n",
       "4     0.52\n",
       "5     0.38\n",
       "6     0.57\n",
       "7     0.41\n",
       "8     0.51\n",
       "9     0.38\n",
       "10    0.53\n",
       "11    0.39\n",
       "12    0.59\n",
       "13    0.60\n",
       "dtype: float64"
      ]
     },
     "execution_count": 66,
     "metadata": {},
     "output_type": "execute_result"
    }
   ],
   "source": [
    "vote_rate_vep"
   ]
  },
  {
   "cell_type": "code",
   "execution_count": 67,
   "metadata": {},
   "outputs": [
    {
     "data": {
      "text/plain": [
       "0    -0.19\n",
       "1    -0.20\n",
       "2    -0.21\n",
       "3    -0.17\n",
       "4    -0.20\n",
       "5    -0.11\n",
       "6    -0.21\n",
       "7    -0.18\n",
       "8    -0.25\n",
       "9    -0.17\n",
       "10   -0.24\n",
       "11   -0.26\n",
       "12   -0.22\n",
       "13   -0.22\n",
       "dtype: float64"
      ]
     },
     "execution_count": 67,
     "metadata": {},
     "output_type": "execute_result"
    }
   ],
   "source": [
    "#VAPとANESの投票率推定値の差を求める\n",
    "diff_vap = vote_rate_vap - (df.ANES / 100)\n",
    "diff_vap "
   ]
  },
  {
   "cell_type": "code",
   "execution_count": 68,
   "metadata": {},
   "outputs": [
    {
     "data": {
      "text/plain": [
       "0    -0.17\n",
       "1    -0.18\n",
       "2    -0.20\n",
       "3    -0.15\n",
       "4    -0.18\n",
       "5    -0.09\n",
       "6    -0.18\n",
       "7    -0.15\n",
       "8    -0.22\n",
       "9    -0.14\n",
       "10   -0.20\n",
       "11   -0.23\n",
       "12   -0.18\n",
       "13   -0.18\n",
       "dtype: float64"
      ]
     },
     "execution_count": 68,
     "metadata": {},
     "output_type": "execute_result"
    }
   ],
   "source": [
    "diff_vep = vote_rate_vep - (df.ANES / 100)\n",
    "diff_vep "
   ]
  },
  {
   "cell_type": "code",
   "execution_count": 69,
   "metadata": {},
   "outputs": [],
   "source": [
    "#論評\n",
    "#ANESによる推定値 > VEPによる推定値 > VAPによる推定値　の順に大きい\n",
    "#ANESによる推定値はその他２つよりも非常に大きく、バイアスが懸念される"
   ]
  },
  {
   "cell_type": "code",
   "execution_count": 70,
   "metadata": {},
   "outputs": [
    {
     "name": "stdout",
     "output_type": "stream",
     "text": [
      "-18.75%\n"
     ]
    }
   ],
   "source": [
    "#大統領選挙のバイアスの平均\n",
    "diff_vep_pe_mean = diff_vep[(diff_vep.index % 2 == 0) | (diff_vep.index == 13)].mean()\n",
    "print('{0:.2%}'.format(diff_vep_pe_mean))"
   ]
  },
  {
   "cell_type": "code",
   "execution_count": 71,
   "metadata": {},
   "outputs": [
    {
     "name": "stdout",
     "output_type": "stream",
     "text": [
      "-15.98%\n"
     ]
    }
   ],
   "source": [
    "#中間選挙のバイアスの平均\n",
    "diff_vep_me_mean = diff_vep[(diff_vep.index % 2 == 1) & (diff_vep.index != 13)].mean()\n",
    "print('{0:.2%}'.format(diff_vep_me_mean))"
   ]
  },
  {
   "cell_type": "code",
   "execution_count": 72,
   "metadata": {},
   "outputs": [],
   "source": [
    "#論評\n",
    "#大統領選挙のほうが中間選挙よりもバイアスが大きい。\n",
    "#大統領選挙のほうが社会的関心が大きいことが要因として推測される。"
   ]
  },
  {
   "cell_type": "code",
   "execution_count": 73,
   "metadata": {},
   "outputs": [
    {
     "data": {
      "text/plain": [
       "-0.021565561224568486"
      ]
     },
     "execution_count": 73,
     "metadata": {},
     "output_type": "execute_result"
    }
   ],
   "source": [
    "diff_vep[7:].mean() - diff_vep[:7].mean()"
   ]
  },
  {
   "cell_type": "code",
   "execution_count": 62,
   "metadata": {},
   "outputs": [],
   "source": [
    "#論評\n",
    "#ANESのバイアスは時間とともに増加している"
   ]
  },
  {
   "cell_type": "code",
   "execution_count": 75,
   "metadata": {},
   "outputs": [
    {
     "data": {
      "text/plain": [
       "0     0.55\n",
       "1     0.43\n",
       "2     0.56\n",
       "3     0.39\n",
       "4     0.54\n",
       "5     0.39\n",
       "6     0.59\n",
       "7     0.42\n",
       "8     0.52\n",
       "9     0.39\n",
       "10    0.55\n",
       "11    0.40\n",
       "12    0.61\n",
       "13    0.63\n",
       "dtype: float64"
      ]
     },
     "execution_count": 75,
     "metadata": {},
     "output_type": "execute_result"
    }
   ],
   "source": [
    "vote_rate_vap_adjusted = (df.total - df.osvoters) / (df.VAP - df.felons - df.noncit)\n",
    "vote_rate_vap_adjusted"
   ]
  },
  {
   "cell_type": "code",
   "execution_count": null,
   "metadata": {},
   "outputs": [],
   "source": [
    "#論評\n",
    "#ANESによる推定値 > 補正後VAPによる推定値 > VEPによる推定値 > VAPによる推定値　の順に大きい"
   ]
  }
 ],
 "metadata": {
  "kernelspec": {
   "display_name": "Python 3",
   "language": "python",
   "name": "python3"
  },
  "language_info": {
   "codemirror_mode": {
    "name": "ipython",
    "version": 3
   },
   "file_extension": ".py",
   "mimetype": "text/x-python",
   "name": "python",
   "nbconvert_exporter": "python",
   "pygments_lexer": "ipython3",
   "version": "3.7.0"
  },
  "toc": {
   "base_numbering": 1,
   "nav_menu": {},
   "number_sections": true,
   "sideBar": true,
   "skip_h1_title": false,
   "title_cell": "Table of Contents",
   "title_sidebar": "Contents",
   "toc_cell": false,
   "toc_position": {},
   "toc_section_display": true,
   "toc_window_display": false
  }
 },
 "nbformat": 4,
 "nbformat_minor": 2
}
